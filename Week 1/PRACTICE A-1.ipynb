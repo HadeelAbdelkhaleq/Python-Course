{
 "cells": [
  {
   "cell_type": "code",
   "execution_count": 1,
   "metadata": {},
   "outputs": [
    {
     "name": "stdout",
     "output_type": "stream",
     "text": [
      "Enter your Name: Hadeel\n",
      "Enter the first Number: 5\n",
      "Enter the Second Number: 2\n",
      "Welcome Mr/Mrs Hadeel,\n",
      "The Sum of 5 and 2 is: 7\n",
      "The Sub of 5 and 2 is: 3\n",
      "The Mul of 5 and 2 is: 10\n",
      "The Div of 5 over 2 is: 2.5\n",
      "The Reminder of 5 over 2 is: 1\n",
      "The Exponent of 5 to the power of 2 is: 25\n"
     ]
    }
   ],
   "source": [
    "A = input(\"Enter your Name: \")\n",
    "X = input(\"Enter the first Number: \")\n",
    "Y = input(\"Enter the Second Number: \")\n",
    "\n",
    "print(\"Welcome Mr/Mrs \" + A + \",\")\n",
    "print(\"The Sum of \"+str(X)+\" and \" + str(Y) + (\" is: \") + str(int(X) + int(Y)))\n",
    "print(\"The Sub of \"+str(X)+\" and \" + str(Y) + (\" is: \") + str(int(X) - int(Y)))\n",
    "print(\"The Mul of \"+str(X)+\" and \" + str(Y) + (\" is: \") + str(int(X) * int(Y)))\n",
    "print(\"The Div of \"+str(X)+\" over \" + str(Y) + (\" is: \") + str(int(X) / int(Y)))\n",
    "print(\"The Reminder of \"+str(X)+\" over \" + str(Y) + (\" is: \") + str(int(X) % int(Y)))\n",
    "print(\"The Exponent of \"+str(X)+\" to the power of \" + str(Y) + (\" is: \") + str(int(X) ** int(Y)))"
   ]
  }
 ],
 "metadata": {
  "kernelspec": {
   "display_name": "Python 3",
   "language": "python",
   "name": "python3"
  },
  "language_info": {
   "codemirror_mode": {
    "name": "ipython",
    "version": 3
   },
   "file_extension": ".py",
   "mimetype": "text/x-python",
   "name": "python",
   "nbconvert_exporter": "python",
   "pygments_lexer": "ipython3",
   "version": "3.6.5"
  }
 },
 "nbformat": 4,
 "nbformat_minor": 2
}
