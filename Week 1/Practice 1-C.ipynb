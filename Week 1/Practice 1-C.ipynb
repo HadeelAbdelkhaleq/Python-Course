{
 "cells": [
  {
   "cell_type": "code",
   "execution_count": 14,
   "metadata": {},
   "outputs": [
    {
     "name": "stdout",
     "output_type": "stream",
     "text": [
      "Enter Celsius degree: 5\n",
      "5.0 in fahrenhiet is 41.0\n",
      "Enter Fahrenhite degree: 41\n",
      "41.0 in fahrenhiet is 5.0\n"
     ]
    }
   ],
   "source": [
    "Celsius = float (input(\"Enter Celsius degree: \"))\n",
    "Fah = ((Celsius * 1.8) + 32)\n",
    "print (str(Celsius) + \" in fahrenhiet is \" + str(Fah))\n",
    "\n",
    "\n",
    "Fahrenhite = float (input(\"Enter Fahrenhite degree: \"))\n",
    "Cel = ((Fahrenhite - 32) * (5/9))\n",
    "print (str(Fahrenhite) + \" in fahrenhiet is \" + str(Cel))"
   ]
  }
 ],
 "metadata": {
  "kernelspec": {
   "display_name": "Python 3",
   "language": "python",
   "name": "python3"
  },
  "language_info": {
   "codemirror_mode": {
    "name": "ipython",
    "version": 3
   },
   "file_extension": ".py",
   "mimetype": "text/x-python",
   "name": "python",
   "nbconvert_exporter": "python",
   "pygments_lexer": "ipython3",
   "version": "3.6.5"
  }
 },
 "nbformat": 4,
 "nbformat_minor": 2
}
