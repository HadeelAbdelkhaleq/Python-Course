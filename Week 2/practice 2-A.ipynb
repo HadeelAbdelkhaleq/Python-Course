{
 "cells": [
  {
   "cell_type": "code",
   "execution_count": null,
   "metadata": {},
   "outputs": [],
   "source": [
    "def check_prime_numbers(n):\n",
    "    \n",
    "    primes = []\n",
    "\n",
    "    noofprimes = 0\n",
    "    \n",
    "    x = 2\n",
    "    while noofprimes <= n:\n",
    "        \n",
    "        for i in range (2,x):\n",
    "            if x % i != 0 or x % 2 != 0:\n",
    "                primes.append(x)\n",
    "                noofprimes += 1\n",
    "            x += 1 \n",
    "    return check_prime_numbers \n",
    "\n",
    "\n",
    "print (check_prime_numbers(6))"
   ]
  },
  {
   "cell_type": "code",
   "execution_count": null,
   "metadata": {},
   "outputs": [],
   "source": []
  }
 ],
 "metadata": {
  "kernelspec": {
   "display_name": "Python 3",
   "language": "python",
   "name": "python3"
  },
  "language_info": {
   "codemirror_mode": {
    "name": "ipython",
    "version": 3
   },
   "file_extension": ".py",
   "mimetype": "text/x-python",
   "name": "python",
   "nbconvert_exporter": "python",
   "pygments_lexer": "ipython3",
   "version": "3.6.5"
  }
 },
 "nbformat": 4,
 "nbformat_minor": 2
}
